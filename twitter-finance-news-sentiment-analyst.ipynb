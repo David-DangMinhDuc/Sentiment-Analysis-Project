{
 "cells": [
  {
   "cell_type": "markdown",
   "metadata": {},
   "source": [
    "# Sentiment Analysis from Twitter Financial News Dataset #"
   ]
  },
  {
   "cell_type": "code",
   "execution_count": 1,
   "metadata": {
    "execution": {
     "iopub.execute_input": "2024-11-04T07:07:02.607415Z",
     "iopub.status.busy": "2024-11-04T07:07:02.607085Z",
     "iopub.status.idle": "2024-11-04T07:07:15.464593Z",
     "shell.execute_reply": "2024-11-04T07:07:15.463536Z",
     "shell.execute_reply.started": "2024-11-04T07:07:02.607377Z"
    },
    "trusted": true
   },
   "outputs": [
    {
     "name": "stdout",
     "output_type": "stream",
     "text": [
      "Requirement already satisfied: nltk in /opt/conda/lib/python3.10/site-packages (3.2.4)\n",
      "Requirement already satisfied: scikit-learn in /opt/conda/lib/python3.10/site-packages (1.2.2)\n",
      "Requirement already satisfied: transformers in /opt/conda/lib/python3.10/site-packages (4.45.1)\n",
      "Requirement already satisfied: six in /opt/conda/lib/python3.10/site-packages (from nltk) (1.16.0)\n",
      "Requirement already satisfied: numpy>=1.17.3 in /opt/conda/lib/python3.10/site-packages (from scikit-learn) (1.26.4)\n",
      "Requirement already satisfied: scipy>=1.3.2 in /opt/conda/lib/python3.10/site-packages (from scikit-learn) (1.14.1)\n",
      "Requirement already satisfied: joblib>=1.1.1 in /opt/conda/lib/python3.10/site-packages (from scikit-learn) (1.4.2)\n",
      "Requirement already satisfied: threadpoolctl>=2.0.0 in /opt/conda/lib/python3.10/site-packages (from scikit-learn) (3.5.0)\n",
      "Requirement already satisfied: filelock in /opt/conda/lib/python3.10/site-packages (from transformers) (3.15.1)\n",
      "Requirement already satisfied: huggingface-hub<1.0,>=0.23.2 in /opt/conda/lib/python3.10/site-packages (from transformers) (0.25.1)\n",
      "Requirement already satisfied: packaging>=20.0 in /opt/conda/lib/python3.10/site-packages (from transformers) (21.3)\n",
      "Requirement already satisfied: pyyaml>=5.1 in /opt/conda/lib/python3.10/site-packages (from transformers) (6.0.2)\n",
      "Requirement already satisfied: regex!=2019.12.17 in /opt/conda/lib/python3.10/site-packages (from transformers) (2024.5.15)\n",
      "Requirement already satisfied: requests in /opt/conda/lib/python3.10/site-packages (from transformers) (2.32.3)\n",
      "Requirement already satisfied: safetensors>=0.4.1 in /opt/conda/lib/python3.10/site-packages (from transformers) (0.4.5)\n",
      "Requirement already satisfied: tokenizers<0.21,>=0.20 in /opt/conda/lib/python3.10/site-packages (from transformers) (0.20.0)\n",
      "Requirement already satisfied: tqdm>=4.27 in /opt/conda/lib/python3.10/site-packages (from transformers) (4.66.4)\n",
      "Requirement already satisfied: fsspec>=2023.5.0 in /opt/conda/lib/python3.10/site-packages (from huggingface-hub<1.0,>=0.23.2->transformers) (2024.6.1)\n",
      "Requirement already satisfied: typing-extensions>=3.7.4.3 in /opt/conda/lib/python3.10/site-packages (from huggingface-hub<1.0,>=0.23.2->transformers) (4.12.2)\n",
      "Requirement already satisfied: pyparsing!=3.0.5,>=2.0.2 in /opt/conda/lib/python3.10/site-packages (from packaging>=20.0->transformers) (3.1.2)\n",
      "Requirement already satisfied: charset-normalizer<4,>=2 in /opt/conda/lib/python3.10/site-packages (from requests->transformers) (3.3.2)\n",
      "Requirement already satisfied: idna<4,>=2.5 in /opt/conda/lib/python3.10/site-packages (from requests->transformers) (3.7)\n",
      "Requirement already satisfied: urllib3<3,>=1.21.1 in /opt/conda/lib/python3.10/site-packages (from requests->transformers) (1.26.18)\n",
      "Requirement already satisfied: certifi>=2017.4.17 in /opt/conda/lib/python3.10/site-packages (from requests->transformers) (2024.8.30)\n"
     ]
    }
   ],
   "source": [
    "!pip install nltk scikit-learn transformers "
   ]
  },
  {
   "cell_type": "code",
   "execution_count": 2,
   "metadata": {
    "execution": {
     "iopub.execute_input": "2024-11-04T07:07:15.467962Z",
     "iopub.status.busy": "2024-11-04T07:07:15.467078Z",
     "iopub.status.idle": "2024-11-04T07:07:22.955976Z",
     "shell.execute_reply": "2024-11-04T07:07:22.955028Z",
     "shell.execute_reply.started": "2024-11-04T07:07:15.467911Z"
    },
    "trusted": true
   },
   "outputs": [],
   "source": [
    "# Import libraries\n",
    "import time\n",
    "import torch\n",
    "from torch import nn, optim\n",
    "from torch.utils.data import Dataset, DataLoader\n",
    "import torch.nn.functional as F\n",
    "from sklearn.datasets import load_files\n",
    "from sklearn.model_selection import train_test_split\n",
    "from sklearn.metrics import classification_report\n",
    "import matplotlib.pyplot as plt\n",
    "import seaborn as sns\n",
    "import numpy as np\n",
    "from datasets import load_dataset\n",
    "import pandas as pd\n",
    "import random as r\n",
    "from transformers import BertTokenizer, \\\n",
    "BertForSequenceClassification, \\\n",
    "RobertaTokenizer, \\\n",
    "RobertaForSequenceClassification, \\\n",
    "AdamW, \\\n",
    "get_linear_schedule_with_warmup\n",
    "import re\n",
    "import nltk"
   ]
  },
  {
   "cell_type": "code",
   "execution_count": 3,
   "metadata": {
    "execution": {
     "iopub.execute_input": "2024-11-04T07:07:22.957645Z",
     "iopub.status.busy": "2024-11-04T07:07:22.957123Z",
     "iopub.status.idle": "2024-11-04T07:07:23.120816Z",
     "shell.execute_reply": "2024-11-04T07:07:23.119950Z",
     "shell.execute_reply.started": "2024-11-04T07:07:22.957610Z"
    },
    "trusted": true
   },
   "outputs": [
    {
     "name": "stdout",
     "output_type": "stream",
     "text": [
      "[nltk_data] Downloading package stopwords to /usr/share/nltk_data...\n",
      "[nltk_data]   Package stopwords is already up-to-date!\n"
     ]
    },
    {
     "data": {
      "text/plain": [
       "True"
      ]
     },
     "execution_count": 3,
     "metadata": {},
     "output_type": "execute_result"
    }
   ],
   "source": [
    "# Download stopwords\n",
    "nltk.download('stopwords')"
   ]
  },
  {
   "cell_type": "code",
   "execution_count": 4,
   "metadata": {
    "execution": {
     "iopub.execute_input": "2024-11-04T07:07:23.124284Z",
     "iopub.status.busy": "2024-11-04T07:07:23.123669Z",
     "iopub.status.idle": "2024-11-04T07:07:23.128024Z",
     "shell.execute_reply": "2024-11-04T07:07:23.127173Z",
     "shell.execute_reply.started": "2024-11-04T07:07:23.124249Z"
    },
    "trusted": true
   },
   "outputs": [],
   "source": [
    "from nltk.corpus import stopwords"
   ]
  },
  {
   "cell_type": "markdown",
   "metadata": {},
   "source": [
    "## Data exploration ##"
   ]
  },
  {
   "cell_type": "code",
   "execution_count": 5,
   "metadata": {
    "execution": {
     "iopub.execute_input": "2024-11-04T07:07:23.129399Z",
     "iopub.status.busy": "2024-11-04T07:07:23.129088Z",
     "iopub.status.idle": "2024-11-04T07:07:24.982261Z",
     "shell.execute_reply": "2024-11-04T07:07:24.981494Z",
     "shell.execute_reply.started": "2024-11-04T07:07:23.129368Z"
    },
    "trusted": true
   },
   "outputs": [
    {
     "data": {
      "application/vnd.jupyter.widget-view+json": {
       "model_id": "459bcbab716c40d883b1c0dd54893a02",
       "version_major": 2,
       "version_minor": 0
      },
      "text/plain": [
       "README.md:   0%|          | 0.00/1.39k [00:00<?, ?B/s]"
      ]
     },
     "metadata": {},
     "output_type": "display_data"
    },
    {
     "data": {
      "application/vnd.jupyter.widget-view+json": {
       "model_id": "6e8ab00c45774fc9b4085d43b9992129",
       "version_major": 2,
       "version_minor": 0
      },
      "text/plain": [
       "sent_train.csv:   0%|          | 0.00/859k [00:00<?, ?B/s]"
      ]
     },
     "metadata": {},
     "output_type": "display_data"
    },
    {
     "data": {
      "application/vnd.jupyter.widget-view+json": {
       "model_id": "bdf1819bc11d47e2aa0431fa89f70c0b",
       "version_major": 2,
       "version_minor": 0
      },
      "text/plain": [
       "sent_valid.csv:   0%|          | 0.00/217k [00:00<?, ?B/s]"
      ]
     },
     "metadata": {},
     "output_type": "display_data"
    },
    {
     "data": {
      "application/vnd.jupyter.widget-view+json": {
       "model_id": "ecd6861f6afe4157bae12e6f2444a336",
       "version_major": 2,
       "version_minor": 0
      },
      "text/plain": [
       "Generating train split:   0%|          | 0/9543 [00:00<?, ? examples/s]"
      ]
     },
     "metadata": {},
     "output_type": "display_data"
    },
    {
     "data": {
      "application/vnd.jupyter.widget-view+json": {
       "model_id": "1c6d903372ba4455b5f70daa8d68d722",
       "version_major": 2,
       "version_minor": 0
      },
      "text/plain": [
       "Generating validation split:   0%|          | 0/2388 [00:00<?, ? examples/s]"
      ]
     },
     "metadata": {},
     "output_type": "display_data"
    }
   ],
   "source": [
    "# Load dataset from huggingface\n",
    "tfn_dataset = load_dataset(\"zeroshot/twitter-financial-news-sentiment\")\n",
    "df_train, df_dev = pd.DataFrame(tfn_dataset['train']), pd.DataFrame(tfn_dataset['validation'])"
   ]
  },
  {
   "cell_type": "code",
   "execution_count": 6,
   "metadata": {
    "execution": {
     "iopub.execute_input": "2024-11-04T07:07:24.984236Z",
     "iopub.status.busy": "2024-11-04T07:07:24.983840Z",
     "iopub.status.idle": "2024-11-04T07:07:25.009374Z",
     "shell.execute_reply": "2024-11-04T07:07:25.008282Z",
     "shell.execute_reply.started": "2024-11-04T07:07:24.984192Z"
    },
    "trusted": true
   },
   "outputs": [
    {
     "name": "stdout",
     "output_type": "stream",
     "text": [
      "<class 'pandas.core.frame.DataFrame'>\n",
      "RangeIndex: 11931 entries, 0 to 11930\n",
      "Data columns (total 2 columns):\n",
      " #   Column  Non-Null Count  Dtype \n",
      "---  ------  --------------  ----- \n",
      " 0   text    11931 non-null  object\n",
      " 1   label   11931 non-null  int64 \n",
      "dtypes: int64(1), object(1)\n",
      "memory usage: 186.5+ KB\n"
     ]
    }
   ],
   "source": [
    "tfn_df = pd.concat([df_train, df_dev], ignore_index=True)\n",
    "tfn_df.info()"
   ]
  },
  {
   "cell_type": "markdown",
   "metadata": {},
   "source": [
    "We can see that there is no missing value in Twitter Finance News Dataset. "
   ]
  },
  {
   "cell_type": "code",
   "execution_count": 7,
   "metadata": {
    "execution": {
     "iopub.execute_input": "2024-11-04T07:07:25.011583Z",
     "iopub.status.busy": "2024-11-04T07:07:25.010854Z",
     "iopub.status.idle": "2024-11-04T07:07:25.216889Z",
     "shell.execute_reply": "2024-11-04T07:07:25.215665Z",
     "shell.execute_reply.started": "2024-11-04T07:07:25.011537Z"
    },
    "trusted": true
   },
   "outputs": [
    {
     "data": {
      "image/png": "[encoded data removed]",
      "text/plain": [
       "<Figure size 640x480 with 1 Axes>"
      ]
     },
     "metadata": {},
     "output_type": "display_data"
    }
   ],
   "source": [
    "# Count the number of classes\n",
    "value_stats = tfn_df['label'].value_counts()\n",
    "\n",
    "# Get values for the chart\n",
    "values = [value_stats[0], value_stats[1], value_stats[2]]\n",
    "\n",
    "# Mapping the labels\n",
    "label_names = {\n",
    "    value_stats.index[0]: 'Bearish',\n",
    "    value_stats.index[1]: 'Bullish',\n",
    "    value_stats.index[2]: 'Neutral'\n",
    "}\n",
    "\n",
    "# Create a pie chart\n",
    "plt.pie(values, labels=label_names.values(), autopct='%1.1f%%')\n",
    "plt.title('Pie chart showing the ratio of bearish, bullish and neutral labels')\n",
    "plt.show()"
   ]
  },
  {
   "cell_type": "markdown",
   "metadata": {},
   "source": [
    "We can see that the dataset is imbalanced and most tweets are neutral."
   ]
  },
  {
   "cell_type": "markdown",
   "metadata": {},
   "source": [
    "## Preprocessing data and splitting into train/dev/test"
   ]
  },
  {
   "cell_type": "code",
   "execution_count": 8,
   "metadata": {
    "execution": {
     "iopub.execute_input": "2024-11-04T07:07:25.225454Z",
     "iopub.status.busy": "2024-11-04T07:07:25.218773Z",
     "iopub.status.idle": "2024-11-04T07:07:25.453902Z",
     "shell.execute_reply": "2024-11-04T07:07:25.452934Z",
     "shell.execute_reply.started": "2024-11-04T07:07:25.225369Z"
    },
    "trusted": true
   },
   "outputs": [
    {
     "data": {
      "text/plain": [
       "array(['jpmorgan reels expectations beyond meat',\n",
       "       'nomura points bookings weakness carnival royal caribbean',\n",
       "       'cemex cut credit suisse jp morgan weak building outlook', ...,\n",
       "       'vtv therapeutics leads healthcare gainers myomo biohaven pharmaceutical among losers',\n",
       "       'work xpo pyx amkr among hour movers',\n",
       "       'yndx qd oesx among tech movers'], dtype=object)"
      ]
     },
     "execution_count": 8,
     "metadata": {},
     "output_type": "execute_result"
    }
   ],
   "source": [
    "# Text preprocessing\n",
    "from nltk.tokenize import word_tokenize\n",
    "stop_words = set(stopwords.words('english'))\n",
    "\n",
    "\n",
    "def preprocess_text(text):\n",
    "    # Convert to lowercase\n",
    "    text = text.lower() \n",
    "    \n",
    "    # Replace weird characters and links with no character\n",
    "    text = re.sub(r'\\$[A-Za-z]+', '', text) \n",
    "    text = re.sub(r'http\\S+|www\\S+|https\\S+', '', text, flags=re.MULTILINE)\n",
    "    text = re.sub(r'\\@\\w+|\\#', '', text) \n",
    "    text = re.sub(r'[^A-Za-z0-9\\s]', '', text)\n",
    "    \n",
    "    # Tokenize text\n",
    "    words = text.strip().split()\n",
    "    \n",
    "    # Remove stopwords\n",
    "    words = [word for word in words if word not in stop_words]\n",
    "    text = ' '.join(words)\n",
    "    return text\n",
    "\n",
    "df_train['text'] = df_train['text'].apply(preprocess_text)\n",
    "df_dev['text'] = df_dev['text'].apply(preprocess_text)\n",
    "df_train['text'].values"
   ]
  },
  {
   "cell_type": "code",
   "execution_count": 9,
   "metadata": {
    "execution": {
     "iopub.execute_input": "2024-11-04T07:07:25.455295Z",
     "iopub.status.busy": "2024-11-04T07:07:25.454983Z",
     "iopub.status.idle": "2024-11-04T07:07:25.466733Z",
     "shell.execute_reply": "2024-11-04T07:07:25.465898Z",
     "shell.execute_reply.started": "2024-11-04T07:07:25.455264Z"
    },
    "trusted": true
   },
   "outputs": [],
   "source": [
    "from sklearn.model_selection import train_test_split\n",
    "# Split dataset into train/dev/test sets (just split validation dataset (dev dataset) into dev/test sets)\n",
    "X_train, X_dev, y_train, y_dev = train_test_split(tfn_df['text'], tfn_df['label'], test_size=0.2, random_state=42)\n",
    "X_dev, X_test, y_dev, y_test = train_test_split(X_dev, y_dev, test_size=0.5, random_state=42)  "
   ]
  },
  {
   "cell_type": "code",
   "execution_count": 10,
   "metadata": {
    "execution": {
     "iopub.execute_input": "2024-11-04T07:07:25.471562Z",
     "iopub.status.busy": "2024-11-04T07:07:25.471270Z",
     "iopub.status.idle": "2024-11-04T07:07:25.477321Z",
     "shell.execute_reply": "2024-11-04T07:07:25.476439Z",
     "shell.execute_reply.started": "2024-11-04T07:07:25.471532Z"
    },
    "trusted": true
   },
   "outputs": [
    {
     "name": "stdout",
     "output_type": "stream",
     "text": [
      "Size of Train set:  9544\n",
      "Size of Dev set:  1193\n",
      "Size of Test set:  1194\n"
     ]
    }
   ],
   "source": [
    "print(\"Size of Train set: \", len(X_train))\n",
    "print(\"Size of Dev set: \", len(X_dev))\n",
    "print(\"Size of Test set: \", len(X_test))"
   ]
  },
  {
   "cell_type": "markdown",
   "metadata": {},
   "source": [
    "## RoBERTa ##"
   ]
  },
  {
   "cell_type": "markdown",
   "metadata": {},
   "source": [
    "I utilize RoBERTa for analyzing sentiment from Tweet Financial News dataset. After training and testing, I will save model for building and demonstrating a web app for finance-related tweets sentiment analyst."
   ]
  },
  {
   "cell_type": "code",
   "execution_count": 11,
   "metadata": {
    "execution": {
     "iopub.execute_input": "2024-11-04T07:07:25.478703Z",
     "iopub.status.busy": "2024-11-04T07:07:25.478374Z",
     "iopub.status.idle": "2024-11-04T07:07:25.512243Z",
     "shell.execute_reply": "2024-11-04T07:07:25.511384Z",
     "shell.execute_reply.started": "2024-11-04T07:07:25.478672Z"
    },
    "trusted": true
   },
   "outputs": [
    {
     "data": {
      "text/plain": [
       "device(type='cuda', index=0)"
      ]
     },
     "execution_count": 11,
     "metadata": {},
     "output_type": "execute_result"
    }
   ],
   "source": [
    "MAX_LEN = 128\n",
    "BATCH_SIZE = 32\n",
    "device = torch.device(\"cuda:0\" if torch.cuda.is_available() else \"cpu\")\n",
    "device"
   ]
  },
  {
   "cell_type": "code",
   "execution_count": 12,
   "metadata": {
    "execution": {
     "iopub.execute_input": "2024-11-04T07:07:25.514217Z",
     "iopub.status.busy": "2024-11-04T07:07:25.513781Z",
     "iopub.status.idle": "2024-11-04T07:07:25.521009Z",
     "shell.execute_reply": "2024-11-04T07:07:25.520141Z",
     "shell.execute_reply.started": "2024-11-04T07:07:25.514122Z"
    },
    "trusted": true
   },
   "outputs": [],
   "source": [
    "X_train_roberta, X_dev_roberta, X_test_roberta = X_train, X_dev, X_test\n",
    "y_train_roberta, y_dev_roberta, y_test_roberta = y_train, y_dev, y_test"
   ]
  },
  {
   "cell_type": "code",
   "execution_count": 13,
   "metadata": {
    "execution": {
     "iopub.execute_input": "2024-11-04T07:07:25.522633Z",
     "iopub.status.busy": "2024-11-04T07:07:25.522001Z",
     "iopub.status.idle": "2024-11-04T07:07:26.204320Z",
     "shell.execute_reply": "2024-11-04T07:07:26.203312Z",
     "shell.execute_reply.started": "2024-11-04T07:07:25.522596Z"
    },
    "trusted": true
   },
   "outputs": [
    {
     "data": {
      "application/vnd.jupyter.widget-view+json": {
       "model_id": "081771b7c8d94370b000d107e358d222",
       "version_major": 2,
       "version_minor": 0
      },
      "text/plain": [
       "tokenizer_config.json:   0%|          | 0.00/25.0 [00:00<?, ?B/s]"
      ]
     },
     "metadata": {},
     "output_type": "display_data"
    },
    {
     "data": {
      "application/vnd.jupyter.widget-view+json": {
       "model_id": "acd7dd72477841ed96467c5c3f832673",
       "version_major": 2,
       "version_minor": 0
      },
      "text/plain": [
       "vocab.json:   0%|          | 0.00/899k [00:00<?, ?B/s]"
      ]
     },
     "metadata": {},
     "output_type": "display_data"
    },
    {
     "data": {
      "application/vnd.jupyter.widget-view+json": {
       "model_id": "6f53367939ca4f2d801c5a09a7ca3d7a",
       "version_major": 2,
       "version_minor": 0
      },
      "text/plain": [
       "merges.txt:   0%|          | 0.00/456k [00:00<?, ?B/s]"
      ]
     },
     "metadata": {},
     "output_type": "display_data"
    },
    {
     "data": {
      "application/vnd.jupyter.widget-view+json": {
       "model_id": "d18f7e43189a4d569d9d391453b22b49",
       "version_major": 2,
       "version_minor": 0
      },
      "text/plain": [
       "tokenizer.json:   0%|          | 0.00/1.36M [00:00<?, ?B/s]"
      ]
     },
     "metadata": {},
     "output_type": "display_data"
    },
    {
     "data": {
      "application/vnd.jupyter.widget-view+json": {
       "model_id": "f5a69ef97be54c738843351b46478b89",
       "version_major": 2,
       "version_minor": 0
      },
      "text/plain": [
       "config.json:   0%|          | 0.00/481 [00:00<?, ?B/s]"
      ]
     },
     "metadata": {},
     "output_type": "display_data"
    },
    {
     "name": "stderr",
     "output_type": "stream",
     "text": [
      "/opt/conda/lib/python3.10/site-packages/transformers/tokenization_utils_base.py:1617: FutureWarning: `clean_up_tokenization_spaces` was not set. It will be set to `True` by default. This behavior will be deprecated in transformers v4.45, and will be then set to `False` by default. For more details check this issue: https://github.com/huggingface/transformers/issues/31884\n",
      "  warnings.warn(\n"
     ]
    }
   ],
   "source": [
    "roberta_tokenizer = RobertaTokenizer.from_pretrained(\"FacebookAI/roberta-base\", do_lower_case=True)"
   ]
  },
  {
   "cell_type": "code",
   "execution_count": 14,
   "metadata": {
    "execution": {
     "iopub.execute_input": "2024-11-04T07:07:26.205925Z",
     "iopub.status.busy": "2024-11-04T07:07:26.205607Z",
     "iopub.status.idle": "2024-11-04T07:07:26.215786Z",
     "shell.execute_reply": "2024-11-04T07:07:26.214984Z",
     "shell.execute_reply.started": "2024-11-04T07:07:26.205891Z"
    },
    "trusted": true
   },
   "outputs": [],
   "source": [
    "# Dataset class\n",
    "class tweetFinancialNews(Dataset):\n",
    "\n",
    "    def __init__(self, texts, labels, tokenizer, max_len):\n",
    "        self.texts = texts\n",
    "        self.labels = labels\n",
    "        self.tokenizer = tokenizer\n",
    "        self.max_len = max_len\n",
    "  \n",
    "    def __len__(self):\n",
    "        return len(self.texts)\n",
    "  \n",
    "    def __getitem__(self, txt_lbl_idx):\n",
    "        text = self.texts[txt_lbl_idx]\n",
    "        label = self.labels[txt_lbl_idx]\n",
    "\n",
    "        encoding = self.tokenizer.encode_plus(\n",
    "            text,\n",
    "            add_special_tokens=True,\n",
    "            max_length=self.max_len,\n",
    "            padding='max_length',\n",
    "            return_attention_mask=True,\n",
    "            return_tensors='pt',\n",
    "            truncation=True\n",
    "        )\n",
    "\n",
    "        return {\n",
    "          'review_text': text,\n",
    "          'input_ids': encoding['input_ids'].flatten(),\n",
    "          'attention_mask': encoding['attention_mask'].flatten(),\n",
    "          'labels': torch.tensor(label, dtype=torch.long)\n",
    "        }"
   ]
  },
  {
   "cell_type": "code",
   "execution_count": 15,
   "metadata": {
    "execution": {
     "iopub.execute_input": "2024-11-04T07:07:26.217128Z",
     "iopub.status.busy": "2024-11-04T07:07:26.216838Z",
     "iopub.status.idle": "2024-11-04T07:07:26.232358Z",
     "shell.execute_reply": "2024-11-04T07:07:26.231505Z",
     "shell.execute_reply.started": "2024-11-04T07:07:26.217098Z"
    },
    "trusted": true
   },
   "outputs": [],
   "source": [
    "roberta_train_dts = tweetFinancialNews(X_train_roberta.to_numpy(), y_train_roberta.to_numpy(), roberta_tokenizer, MAX_LEN)\n",
    "roberta_dev_dts = tweetFinancialNews(X_dev_roberta.to_numpy(), y_dev_roberta.to_numpy(), roberta_tokenizer, MAX_LEN)\n",
    "roberta_test_dts = tweetFinancialNews(X_test_roberta.to_numpy(), y_test_roberta.to_numpy(), roberta_tokenizer, MAX_LEN)"
   ]
  },
  {
   "cell_type": "code",
   "execution_count": 16,
   "metadata": {
    "execution": {
     "iopub.execute_input": "2024-11-04T07:07:26.233938Z",
     "iopub.status.busy": "2024-11-04T07:07:26.233604Z",
     "iopub.status.idle": "2024-11-04T07:07:26.243974Z",
     "shell.execute_reply": "2024-11-04T07:07:26.243223Z",
     "shell.execute_reply.started": "2024-11-04T07:07:26.233883Z"
    },
    "trusted": true
   },
   "outputs": [],
   "source": [
    "roberta_train_dataloader = DataLoader(roberta_train_dts, batch_size=BATCH_SIZE)\n",
    "roberta_dev_dataloader = DataLoader(roberta_dev_dts, batch_size=BATCH_SIZE)\n",
    "roberta_test_dataloader = DataLoader(roberta_test_dts, batch_size=BATCH_SIZE)"
   ]
  },
  {
   "cell_type": "code",
   "execution_count": 17,
   "metadata": {
    "execution": {
     "iopub.execute_input": "2024-11-04T07:07:26.245334Z",
     "iopub.status.busy": "2024-11-04T07:07:26.245042Z",
     "iopub.status.idle": "2024-11-04T07:07:29.381928Z",
     "shell.execute_reply": "2024-11-04T07:07:29.381023Z",
     "shell.execute_reply.started": "2024-11-04T07:07:26.245303Z"
    },
    "trusted": true
   },
   "outputs": [
    {
     "data": {
      "application/vnd.jupyter.widget-view+json": {
       "model_id": "513d8170a1f34a10be3b03b9963d1770",
       "version_major": 2,
       "version_minor": 0
      },
      "text/plain": [
       "model.safetensors:   0%|          | 0.00/499M [00:00<?, ?B/s]"
      ]
     },
     "metadata": {},
     "output_type": "display_data"
    },
    {
     "name": "stderr",
     "output_type": "stream",
     "text": [
      "Some weights of RobertaForSequenceClassification were not initialized from the model checkpoint at FacebookAI/roberta-base and are newly initialized: ['classifier.dense.bias', 'classifier.dense.weight', 'classifier.out_proj.bias', 'classifier.out_proj.weight']\n",
      "You should probably TRAIN this model on a down-stream task to be able to use it for predictions and inference.\n"
     ]
    },
    {
     "data": {
      "text/plain": [
       "RobertaForSequenceClassification(\n",
       "  (roberta): RobertaModel(\n",
       "    (embeddings): RobertaEmbeddings(\n",
       "      (word_embeddings): Embedding(50265, 768, padding_idx=1)\n",
       "      (position_embeddings): Embedding(514, 768, padding_idx=1)\n",
       "      (token_type_embeddings): Embedding(1, 768)\n",
       "      (LayerNorm): LayerNorm((768,), eps=1e-05, elementwise_affine=True)\n",
       "      (dropout): Dropout(p=0.1, inplace=False)\n",
       "    )\n",
       "    (encoder): RobertaEncoder(\n",
       "      (layer): ModuleList(\n",
       "        (0-11): 12 x RobertaLayer(\n",
       "          (attention): RobertaAttention(\n",
       "            (self): RobertaSdpaSelfAttention(\n",
       "              (query): Linear(in_features=768, out_features=768, bias=True)\n",
       "              (key): Linear(in_features=768, out_features=768, bias=True)\n",
       "              (value): Linear(in_features=768, out_features=768, bias=True)\n",
       "              (dropout): Dropout(p=0.1, inplace=False)\n",
       "            )\n",
       "            (output): RobertaSelfOutput(\n",
       "              (dense): Linear(in_features=768, out_features=768, bias=True)\n",
       "              (LayerNorm): LayerNorm((768,), eps=1e-05, elementwise_affine=True)\n",
       "              (dropout): Dropout(p=0.1, inplace=False)\n",
       "            )\n",
       "          )\n",
       "          (intermediate): RobertaIntermediate(\n",
       "            (dense): Linear(in_features=768, out_features=3072, bias=True)\n",
       "            (intermediate_act_fn): GELUActivation()\n",
       "          )\n",
       "          (output): RobertaOutput(\n",
       "            (dense): Linear(in_features=3072, out_features=768, bias=True)\n",
       "            (LayerNorm): LayerNorm((768,), eps=1e-05, elementwise_affine=True)\n",
       "            (dropout): Dropout(p=0.1, inplace=False)\n",
       "          )\n",
       "        )\n",
       "      )\n",
       "    )\n",
       "  )\n",
       "  (classifier): RobertaClassificationHead(\n",
       "    (dense): Linear(in_features=768, out_features=768, bias=True)\n",
       "    (dropout): Dropout(p=0.1, inplace=False)\n",
       "    (out_proj): Linear(in_features=768, out_features=3, bias=True)\n",
       "  )\n",
       ")"
      ]
     },
     "execution_count": 17,
     "metadata": {},
     "output_type": "execute_result"
    }
   ],
   "source": [
    "roberta_model = RobertaForSequenceClassification.from_pretrained(\"FacebookAI/roberta-base\", num_labels=3)\n",
    "roberta_model.to(device)"
   ]
  },
  {
   "cell_type": "code",
   "execution_count": 18,
   "metadata": {
    "execution": {
     "iopub.execute_input": "2024-11-04T07:07:29.384106Z",
     "iopub.status.busy": "2024-11-04T07:07:29.383315Z",
     "iopub.status.idle": "2024-11-04T07:07:29.864765Z",
     "shell.execute_reply": "2024-11-04T07:07:29.863977Z",
     "shell.execute_reply.started": "2024-11-04T07:07:29.384058Z"
    },
    "trusted": true
   },
   "outputs": [
    {
     "name": "stderr",
     "output_type": "stream",
     "text": [
      "/opt/conda/lib/python3.10/site-packages/transformers/optimization.py:591: FutureWarning: This implementation of AdamW is deprecated and will be removed in a future version. Use the PyTorch implementation torch.optim.AdamW instead, or set `no_deprecation_warning=True` to disable this warning\n",
      "  warnings.warn(\n"
     ]
    }
   ],
   "source": [
    "ROBERTA_EPOCHS = 3 # epoch for RoBERTa\n",
    "\n",
    "roberta_opt = AdamW(roberta_model.parameters(), lr = 2e-5, eps=1e-8) # optimizer\n",
    "roberta_num_steps = len(roberta_train_dataloader) * ROBERTA_EPOCHS \n",
    "\n",
    "scheduler = get_linear_schedule_with_warmup(\n",
    "  roberta_opt,\n",
    "  num_warmup_steps=500, # learning rate will increase from 0 to 2e-5 in 500 steps and go down to 0 in the remaining time\n",
    "  num_training_steps=roberta_num_steps\n",
    ")\n"
   ]
  },
  {
   "cell_type": "code",
   "execution_count": null,
   "metadata": {
    "execution": {
     "iopub.execute_input": "2024-11-04T07:07:29.867009Z",
     "iopub.status.busy": "2024-11-04T07:07:29.866309Z",
     "iopub.status.idle": "2024-11-04T07:07:29.874289Z",
     "shell.execute_reply": "2024-11-04T07:07:29.873368Z",
     "shell.execute_reply.started": "2024-11-04T07:07:29.866963Z"
    },
    "trusted": true
   },
   "outputs": [],
   "source": [
    "def pt_train(model, train_dataloader, opt, device, scheduler):\n",
    "    model.train()    # A model starts training\n",
    "    losses = []\n",
    "    \n",
    "    for data in train_dataloader:\n",
    "        input_ids = data[\"input_ids\"].to(device)\n",
    "        attention_mask = data[\"attention_mask\"].to(device)\n",
    "        labels = data[\"labels\"].to(device)\n",
    "\n",
    "        train_output = model(input_ids=input_ids, attention_mask=attention_mask, labels = labels)\n",
    "        \n",
    "        #loss = classification loss\n",
    "        loss = train_output.loss\n",
    "\n",
    "        losses.append(loss.item())\n",
    "        loss.backward()   # performs backpropagation(computes derivates of loss w.r.t to parameters)\n",
    "        nn.utils.clip_grad_norm_(model.parameters(), max_norm=1.0)  #clipping gradients \n",
    "        opt.step()       #After gradients are computed by loss.backward() this makes the optimizer iterate over all parameters it is supposed to update and use internally #stored grad to update their values\n",
    "        scheduler.step()    # Make sure learning rate changes (If we do not use this line, the learning rate will stay at initial value)\n",
    "        opt.zero_grad()     # clears old gradients from last step\n",
    "\n",
    "        \n",
    "    return np.mean(losses)"
   ]
  },
  {
   "cell_type": "code",
   "execution_count": null,
   "metadata": {
    "execution": {
     "iopub.execute_input": "2024-11-04T07:07:29.875734Z",
     "iopub.status.busy": "2024-11-04T07:07:29.875425Z",
     "iopub.status.idle": "2024-11-04T07:07:29.885354Z",
     "shell.execute_reply": "2024-11-04T07:07:29.884585Z",
     "shell.execute_reply.started": "2024-11-04T07:07:29.875702Z"
    },
    "trusted": true
   },
   "outputs": [],
   "source": [
    "def pt_eval(model, dev_dataloader, device):  \n",
    "    model.eval()   # A model is in validation mode\n",
    "    losses = []\n",
    "\n",
    "    with torch.no_grad():\n",
    "        for data in dev_dataloader:\n",
    "            input_ids = data[\"input_ids\"].to(device)\n",
    "            attention_mask = data[\"attention_mask\"].to(device)\n",
    "            labels = data[\"labels\"].to(device)\n",
    "            dev_output = model(input_ids=input_ids, attention_mask=attention_mask, labels = labels)\n",
    "            \n",
    "            loss = dev_output.loss\n",
    "            losses.append(loss.item())\n",
    "\n",
    "    return  np.mean(losses)"
   ]
  },
  {
   "cell_type": "code",
   "execution_count": null,
   "metadata": {
    "execution": {
     "iopub.execute_input": "2024-11-04T07:07:29.886593Z",
     "iopub.status.busy": "2024-11-04T07:07:29.886327Z",
     "iopub.status.idle": "2024-11-04T07:07:29.900662Z",
     "shell.execute_reply": "2024-11-04T07:07:29.899898Z",
     "shell.execute_reply.started": "2024-11-04T07:07:29.886561Z"
    },
    "trusted": true
   },
   "outputs": [],
   "source": [
    "def predict(model, test_dataloader):\n",
    "    model.eval()\n",
    "\n",
    "    predictions, real_values = [], []\n",
    "\n",
    "    with torch.no_grad():\n",
    "        for data in test_dataloader:\n",
    "            input_ids = data[\"input_ids\"].to(device)\n",
    "            attention_mask = data[\"attention_mask\"].to(device)\n",
    "            labels = data[\"labels\"].to(device)\n",
    "\n",
    "            test_output = model(input_ids=input_ids,attention_mask=attention_mask, labels=labels)\n",
    "            logits = test_output.logits\n",
    "            logits = logits.detach().cpu().numpy()\n",
    "            label_ids = labels.to('cpu').numpy()\n",
    "\n",
    "            predictions.append(logits)\n",
    "            real_values.append(label_ids)\n",
    "\n",
    "    y_test = real_values\n",
    "    y_pred = [np.argmax(predictions[i], axis=1).flatten() for i in range(len(real_values))]\n",
    "    return y_test, y_pred"
   ]
  },
  {
   "cell_type": "code",
   "execution_count": 22,
   "metadata": {
    "execution": {
     "iopub.execute_input": "2024-11-04T07:07:29.901949Z",
     "iopub.status.busy": "2024-11-04T07:07:29.901683Z",
     "iopub.status.idle": "2024-11-04T07:13:08.459129Z",
     "shell.execute_reply": "2024-11-04T07:13:08.458204Z",
     "shell.execute_reply.started": "2024-11-04T07:07:29.901919Z"
    },
    "trusted": true
   },
   "outputs": [
    {
     "name": "stdout",
     "output_type": "stream",
     "text": [
      "Epoch 1/3\n",
      "----------\n",
      "Train loss 0.6833958595393095\n",
      "Val   loss 0.3620868775209314\n",
      "\n",
      "Epoch 2/3\n",
      "----------\n",
      "Train loss 0.33222754608627947\n",
      "Val   loss 0.33752091228961945\n",
      "\n",
      "Epoch 3/3\n",
      "----------\n",
      "Train loss 0.20175598686978372\n",
      "Val   loss 0.32111352091459067\n",
      "\n"
     ]
    },
    {
     "data": {
      "text/plain": [
       "defaultdict(list,\n",
       "            {'epoch': [0, 1, 2],\n",
       "             'train_loss': [0.6833958595393095,\n",
       "              0.33222754608627947,\n",
       "              0.20175598686978372],\n",
       "             'dev_loss': [0.3620868775209314,\n",
       "              0.33752091228961945,\n",
       "              0.32111352091459067]})"
      ]
     },
     "execution_count": 22,
     "metadata": {},
     "output_type": "execute_result"
    }
   ],
   "source": [
    "from collections import defaultdict\n",
    "\n",
    "roberta_history = defaultdict(list)\n",
    "\n",
    "for rbt_epoch in range(ROBERTA_EPOCHS):\n",
    "    print(f'Epoch {rbt_epoch + 1}/{ROBERTA_EPOCHS}')\n",
    "    print('-' * 10)\n",
    "    \n",
    "    rbt_train_loss = pt_train(roberta_model, roberta_train_dataloader, roberta_opt, device, scheduler)\n",
    "\n",
    "    print(f'Train loss {rbt_train_loss}')\n",
    "\n",
    "    rbt_dev_loss = pt_eval(roberta_model, roberta_dev_dataloader, device)\n",
    "\n",
    "    print(f'Val   loss {rbt_dev_loss}')\n",
    "    print()\n",
    "\n",
    "    roberta_history['epoch'].append(rbt_epoch)\n",
    "    roberta_history['train_loss'].append(rbt_train_loss)\n",
    "    roberta_history['dev_loss'].append(rbt_dev_loss)\n",
    "\n",
    "roberta_history"
   ]
  },
  {
   "cell_type": "code",
   "execution_count": 23,
   "metadata": {
    "execution": {
     "iopub.execute_input": "2024-11-04T07:13:08.460611Z",
     "iopub.status.busy": "2024-11-04T07:13:08.460299Z",
     "iopub.status.idle": "2024-11-04T07:13:08.721517Z",
     "shell.execute_reply": "2024-11-04T07:13:08.719996Z",
     "shell.execute_reply.started": "2024-11-04T07:13:08.460579Z"
    },
    "trusted": true
   },
   "outputs": [
    {
     "data": {
      "text/plain": [
       "([<matplotlib.axis.YTick at 0x7a297031f430>,\n",
       "  <matplotlib.axis.YTick at 0x7a297031edd0>,\n",
       "  <matplotlib.axis.YTick at 0x7a297031ded0>,\n",
       "  <matplotlib.axis.YTick at 0x7a297031cbb0>,\n",
       "  <matplotlib.axis.YTick at 0x7a297036cb20>,\n",
       "  <matplotlib.axis.YTick at 0x7a297036d300>],\n",
       " [Text(0, 0.0, '0.0'),\n",
       "  Text(0, 0.4, '0.4'),\n",
       "  Text(0, 0.8, '0.8'),\n",
       "  Text(0, 1.2000000000000002, '1.2'),\n",
       "  Text(0, 1.6, '1.6'),\n",
       "  Text(0, 2.0, '2.0')])"
      ]
     },
     "execution_count": 23,
     "metadata": {},
     "output_type": "execute_result"
    },
    {
     "data": {
      "image/png": "[encoded data removed]",
      "text/plain": [
       "<Figure size 640x480 with 1 Axes>"
      ]
     },
     "metadata": {},
     "output_type": "display_data"
    }
   ],
   "source": [
    "# Visualize from result of training and validation loss of BERT\n",
    "plt.plot(roberta_history['train_loss'], label='train loss')\n",
    "plt.plot(roberta_history['dev_loss'], label='validation loss')\n",
    "\n",
    "plt.title('Training and validation loss history - RoBERTa')\n",
    "plt.ylabel('Loss')\n",
    "plt.xlabel('Epoch')\n",
    "plt.legend()\n",
    "plt.xticks(np.arange(0,ROBERTA_EPOCHS, 1))\n",
    "plt.yticks(np.arange(0,2.05, 0.4))"
   ]
  },
  {
   "cell_type": "code",
   "execution_count": 24,
   "metadata": {
    "execution": {
     "iopub.execute_input": "2024-11-04T07:13:08.724152Z",
     "iopub.status.busy": "2024-11-04T07:13:08.723436Z",
     "iopub.status.idle": "2024-11-04T07:13:13.214866Z",
     "shell.execute_reply": "2024-11-04T07:13:13.213962Z",
     "shell.execute_reply.started": "2024-11-04T07:13:08.724091Z"
    },
    "trusted": true
   },
   "outputs": [],
   "source": [
    "y_test_rbt, y_pred_rbt = predict(roberta_model, roberta_test_dataloader)"
   ]
  },
  {
   "cell_type": "code",
   "execution_count": 25,
   "metadata": {
    "execution": {
     "iopub.execute_input": "2024-11-04T07:13:13.216456Z",
     "iopub.status.busy": "2024-11-04T07:13:13.216099Z",
     "iopub.status.idle": "2024-11-04T07:13:13.235720Z",
     "shell.execute_reply": "2024-11-04T07:13:13.234690Z",
     "shell.execute_reply.started": "2024-11-04T07:13:13.216420Z"
    },
    "trusted": true
   },
   "outputs": [
    {
     "data": {
      "text/plain": [
       "{'Bearish': {'precision': 0.8044444444444444,\n",
       "  'recall': 0.8701923076923077,\n",
       "  'f1-score': 0.836027713625866,\n",
       "  'support': 208},\n",
       " 'Bullish': {'precision': 0.8155737704918032,\n",
       "  'recall': 0.8614718614718615,\n",
       "  'f1-score': 0.8378947368421054,\n",
       "  'support': 231},\n",
       " 'Neutral': {'precision': 0.9379310344827586,\n",
       "  'recall': 0.9006622516556292,\n",
       "  'f1-score': 0.918918918918919,\n",
       "  'support': 755},\n",
       " 'accuracy': 0.8877721943048577,\n",
       " 'macro avg': {'precision': 0.8526497498063353,\n",
       "  'recall': 0.8774421402732662,\n",
       "  'f1-score': 0.8642804564622968,\n",
       "  'support': 1194},\n",
       " 'weighted avg': {'precision': 0.8910049551612511,\n",
       "  'recall': 0.8877721943048577,\n",
       "  'f1-score': 0.8888033772432917,\n",
       "  'support': 1194}}"
      ]
     },
     "execution_count": 25,
     "metadata": {},
     "output_type": "execute_result"
    }
   ],
   "source": [
    "roberta_cr = classification_report(np.hstack(y_test_rbt), np.hstack(y_pred_rbt), target_names=['Bearish','Bullish', 'Neutral'], output_dict=True)\n",
    "roberta_cr"
   ]
  },
  {
   "cell_type": "code",
   "execution_count": 26,
   "metadata": {
    "execution": {
     "iopub.execute_input": "2024-11-04T07:13:13.237322Z",
     "iopub.status.busy": "2024-11-04T07:13:13.236957Z",
     "iopub.status.idle": "2024-11-04T07:13:13.243649Z",
     "shell.execute_reply": "2024-11-04T07:13:13.242569Z",
     "shell.execute_reply.started": "2024-11-04T07:13:13.237285Z"
    },
    "trusted": true
   },
   "outputs": [
    {
     "name": "stdout",
     "output_type": "stream",
     "text": [
      "Accuracy of RoBERTa: 0.8877721943048577\n",
      "Precision of RoBERTa: 0.8910049551612511\n",
      "Recall of RoBERTa: 0.8877721943048577\n",
      "F1-score of RoBERTa: 0.8888033772432917\n"
     ]
    }
   ],
   "source": [
    "print('Accuracy of RoBERTa:', roberta_cr['accuracy'])\n",
    "print('Precision of RoBERTa:',roberta_cr['weighted avg']['precision'])\n",
    "print('Recall of RoBERTa:',roberta_cr['weighted avg']['recall'])\n",
    "print('F1-score of RoBERTa:', roberta_cr['weighted avg']['f1-score'])"
   ]
  },
  {
   "cell_type": "code",
   "execution_count": 27,
   "metadata": {
    "execution": {
     "iopub.execute_input": "2024-11-04T07:13:13.245103Z",
     "iopub.status.busy": "2024-11-04T07:13:13.244787Z",
     "iopub.status.idle": "2024-11-04T07:13:14.149645Z",
     "shell.execute_reply": "2024-11-04T07:13:14.148841Z",
     "shell.execute_reply.started": "2024-11-04T07:13:13.245069Z"
    },
    "trusted": true
   },
   "outputs": [],
   "source": [
    "# Save model for building a web app\n",
    "torch.save(roberta_model.state_dict(), 'roberta.pth')"
   ]
  },
  {
   "cell_type": "code",
   "execution_count": 28,
   "metadata": {
    "execution": {
     "iopub.execute_input": "2024-11-04T07:13:14.156024Z",
     "iopub.status.busy": "2024-11-04T07:13:14.155706Z",
     "iopub.status.idle": "2024-11-04T07:13:14.206017Z",
     "shell.execute_reply": "2024-11-04T07:13:14.205144Z",
     "shell.execute_reply.started": "2024-11-04T07:13:14.155991Z"
    },
    "trusted": true
   },
   "outputs": [
    {
     "name": "stdout",
     "output_type": "stream",
     "text": [
      "Predicted label: 1\n",
      "Predicted sentiment: Bullish\n",
      "Probability (round 4 digits after dot): 0.992 (99.2%)\n"
     ]
    }
   ],
   "source": [
    "text_input = \"Bausch Health upgraded to overweight from neutral at JPMorgan, price target raised to $38 from $32\"\n",
    "text_input = preprocess_text(text_input)\n",
    "encoded_review_roberta = roberta_tokenizer.encode_plus(\n",
    "            text_input,\n",
    "            add_special_tokens=True,\n",
    "            max_length=MAX_LEN,\n",
    "            padding='max_length',\n",
    "            return_attention_mask=True,\n",
    "            return_tensors='pt',\n",
    "            truncation=True\n",
    ")\n",
    "label_name_lst = ['Bearish','Bullish', 'Neutral']\n",
    "input_ids = encoded_review_roberta['input_ids'].to(device)\n",
    "attention_mask = encoded_review_roberta['attention_mask'].to(device)\n",
    "\n",
    "roberta_output = roberta_model(input_ids, attention_mask)\n",
    "logits = roberta_output.logits\n",
    "prob = logits.softmax(dim=1)[0]\n",
    "logits = logits.detach().cpu().numpy()\n",
    "label_predict_idx = np.argmax(logits)\n",
    "\n",
    "print(f\"Predicted label: {label_predict_idx}\")\n",
    "print(f\"Predicted sentiment: {label_name_lst[label_predict_idx]}\")\n",
    "print(f\"Probability (round 4 digits after dot): {round(prob[label_predict_idx].item(),4)} ({round(prob[label_predict_idx].item(),4)*100}%)\")"
   ]
  },
  {
   "cell_type": "markdown",
   "metadata": {},
   "source": [
    "## BERT ##"
   ]
  },
  {
   "cell_type": "markdown",
   "metadata": {},
   "source": [
    "I will choose BERT for comparing with RoBERTa"
   ]
  },
  {
   "cell_type": "code",
   "execution_count": 29,
   "metadata": {
    "execution": {
     "iopub.execute_input": "2024-11-04T07:13:14.207324Z",
     "iopub.status.busy": "2024-11-04T07:13:14.207012Z",
     "iopub.status.idle": "2024-11-04T07:13:14.212067Z",
     "shell.execute_reply": "2024-11-04T07:13:14.211220Z",
     "shell.execute_reply.started": "2024-11-04T07:13:14.207291Z"
    },
    "trusted": true
   },
   "outputs": [],
   "source": [
    "X_train_bert, X_dev_bert, X_test_bert = X_train, X_dev, X_test\n",
    "y_train_bert, y_dev_bert, y_test_bert = y_train, y_dev, y_test"
   ]
  },
  {
   "cell_type": "code",
   "execution_count": 30,
   "metadata": {
    "execution": {
     "iopub.execute_input": "2024-11-04T07:13:14.213533Z",
     "iopub.status.busy": "2024-11-04T07:13:14.213219Z",
     "iopub.status.idle": "2024-11-04T07:13:15.137686Z",
     "shell.execute_reply": "2024-11-04T07:13:15.136622Z",
     "shell.execute_reply.started": "2024-11-04T07:13:14.213503Z"
    },
    "trusted": true
   },
   "outputs": [
    {
     "data": {
      "application/vnd.jupyter.widget-view+json": {
       "model_id": "b8b32668633c4a8b9f8b6fe155aeb60c",
       "version_major": 2,
       "version_minor": 0
      },
      "text/plain": [
       "tokenizer_config.json:   0%|          | 0.00/49.0 [00:00<?, ?B/s]"
      ]
     },
     "metadata": {},
     "output_type": "display_data"
    },
    {
     "data": {
      "application/vnd.jupyter.widget-view+json": {
       "model_id": "2ca78fa6af6f401cbb7fe90dfb43df45",
       "version_major": 2,
       "version_minor": 0
      },
      "text/plain": [
       "vocab.txt:   0%|          | 0.00/213k [00:00<?, ?B/s]"
      ]
     },
     "metadata": {},
     "output_type": "display_data"
    },
    {
     "data": {
      "application/vnd.jupyter.widget-view+json": {
       "model_id": "67de11c06b4c429c99d2b1ea8ccc4159",
       "version_major": 2,
       "version_minor": 0
      },
      "text/plain": [
       "tokenizer.json:   0%|          | 0.00/436k [00:00<?, ?B/s]"
      ]
     },
     "metadata": {},
     "output_type": "display_data"
    },
    {
     "data": {
      "application/vnd.jupyter.widget-view+json": {
       "model_id": "4ee1a98e2fee45c79a560c270c4ae4ac",
       "version_major": 2,
       "version_minor": 0
      },
      "text/plain": [
       "config.json:   0%|          | 0.00/570 [00:00<?, ?B/s]"
      ]
     },
     "metadata": {},
     "output_type": "display_data"
    }
   ],
   "source": [
    "bert_tokenizer = BertTokenizer.from_pretrained(\"bert-base-cased\", do_lower_case=True)"
   ]
  },
  {
   "cell_type": "code",
   "execution_count": 31,
   "metadata": {
    "execution": {
     "iopub.execute_input": "2024-11-04T07:13:15.139711Z",
     "iopub.status.busy": "2024-11-04T07:13:15.139307Z",
     "iopub.status.idle": "2024-11-04T07:13:15.144892Z",
     "shell.execute_reply": "2024-11-04T07:13:15.144009Z",
     "shell.execute_reply.started": "2024-11-04T07:13:15.139667Z"
    },
    "trusted": true
   },
   "outputs": [],
   "source": [
    "bert_train_dts = tweetFinancialNews(X_train_bert.to_numpy(), y_train_bert.to_numpy(), bert_tokenizer, MAX_LEN)\n",
    "bert_dev_dts = tweetFinancialNews(X_dev_bert.to_numpy(), y_dev_bert.to_numpy(), bert_tokenizer, MAX_LEN)\n",
    "bert_test_dts = tweetFinancialNews(X_test_bert.to_numpy(), y_test_bert.to_numpy(), bert_tokenizer, MAX_LEN)"
   ]
  },
  {
   "cell_type": "code",
   "execution_count": 32,
   "metadata": {
    "execution": {
     "iopub.execute_input": "2024-11-04T07:13:15.146555Z",
     "iopub.status.busy": "2024-11-04T07:13:15.146199Z",
     "iopub.status.idle": "2024-11-04T07:13:15.157460Z",
     "shell.execute_reply": "2024-11-04T07:13:15.156554Z",
     "shell.execute_reply.started": "2024-11-04T07:13:15.146514Z"
    },
    "trusted": true
   },
   "outputs": [],
   "source": [
    "bert_train_dataloader = DataLoader(bert_train_dts, batch_size=BATCH_SIZE)\n",
    "bert_dev_dataloader = DataLoader(bert_dev_dts, batch_size=BATCH_SIZE)\n",
    "bert_test_dataloader = DataLoader(bert_test_dts, batch_size=BATCH_SIZE)"
   ]
  },
  {
   "cell_type": "code",
   "execution_count": 33,
   "metadata": {
    "execution": {
     "iopub.execute_input": "2024-11-04T07:13:15.158901Z",
     "iopub.status.busy": "2024-11-04T07:13:15.158536Z",
     "iopub.status.idle": "2024-11-04T07:13:17.601912Z",
     "shell.execute_reply": "2024-11-04T07:13:17.601021Z",
     "shell.execute_reply.started": "2024-11-04T07:13:15.158857Z"
    },
    "trusted": true
   },
   "outputs": [
    {
     "data": {
      "application/vnd.jupyter.widget-view+json": {
       "model_id": "9439cef8c6f1486daa84af6852830611",
       "version_major": 2,
       "version_minor": 0
      },
      "text/plain": [
       "model.safetensors:   0%|          | 0.00/436M [00:00<?, ?B/s]"
      ]
     },
     "metadata": {},
     "output_type": "display_data"
    },
    {
     "name": "stderr",
     "output_type": "stream",
     "text": [
      "Some weights of BertForSequenceClassification were not initialized from the model checkpoint at bert-base-cased and are newly initialized: ['classifier.bias', 'classifier.weight']\n",
      "You should probably TRAIN this model on a down-stream task to be able to use it for predictions and inference.\n"
     ]
    },
    {
     "data": {
      "text/plain": [
       "BertForSequenceClassification(\n",
       "  (bert): BertModel(\n",
       "    (embeddings): BertEmbeddings(\n",
       "      (word_embeddings): Embedding(28996, 768, padding_idx=0)\n",
       "      (position_embeddings): Embedding(512, 768)\n",
       "      (token_type_embeddings): Embedding(2, 768)\n",
       "      (LayerNorm): LayerNorm((768,), eps=1e-12, elementwise_affine=True)\n",
       "      (dropout): Dropout(p=0.1, inplace=False)\n",
       "    )\n",
       "    (encoder): BertEncoder(\n",
       "      (layer): ModuleList(\n",
       "        (0-11): 12 x BertLayer(\n",
       "          (attention): BertAttention(\n",
       "            (self): BertSdpaSelfAttention(\n",
       "              (query): Linear(in_features=768, out_features=768, bias=True)\n",
       "              (key): Linear(in_features=768, out_features=768, bias=True)\n",
       "              (value): Linear(in_features=768, out_features=768, bias=True)\n",
       "              (dropout): Dropout(p=0.1, inplace=False)\n",
       "            )\n",
       "            (output): BertSelfOutput(\n",
       "              (dense): Linear(in_features=768, out_features=768, bias=True)\n",
       "              (LayerNorm): LayerNorm((768,), eps=1e-12, elementwise_affine=True)\n",
       "              (dropout): Dropout(p=0.1, inplace=False)\n",
       "            )\n",
       "          )\n",
       "          (intermediate): BertIntermediate(\n",
       "            (dense): Linear(in_features=768, out_features=3072, bias=True)\n",
       "            (intermediate_act_fn): GELUActivation()\n",
       "          )\n",
       "          (output): BertOutput(\n",
       "            (dense): Linear(in_features=3072, out_features=768, bias=True)\n",
       "            (LayerNorm): LayerNorm((768,), eps=1e-12, elementwise_affine=True)\n",
       "            (dropout): Dropout(p=0.1, inplace=False)\n",
       "          )\n",
       "        )\n",
       "      )\n",
       "    )\n",
       "    (pooler): BertPooler(\n",
       "      (dense): Linear(in_features=768, out_features=768, bias=True)\n",
       "      (activation): Tanh()\n",
       "    )\n",
       "  )\n",
       "  (dropout): Dropout(p=0.1, inplace=False)\n",
       "  (classifier): Linear(in_features=768, out_features=3, bias=True)\n",
       ")"
      ]
     },
     "execution_count": 33,
     "metadata": {},
     "output_type": "execute_result"
    }
   ],
   "source": [
    "bert_model = BertForSequenceClassification.from_pretrained(\"bert-base-cased\", num_labels=3)\n",
    "bert_model.to(device)"
   ]
  },
  {
   "cell_type": "code",
   "execution_count": 34,
   "metadata": {
    "execution": {
     "iopub.execute_input": "2024-11-04T07:13:17.603958Z",
     "iopub.status.busy": "2024-11-04T07:13:17.603257Z",
     "iopub.status.idle": "2024-11-04T07:13:17.614237Z",
     "shell.execute_reply": "2024-11-04T07:13:17.613107Z",
     "shell.execute_reply.started": "2024-11-04T07:13:17.603912Z"
    },
    "trusted": true
   },
   "outputs": [
    {
     "name": "stderr",
     "output_type": "stream",
     "text": [
      "/opt/conda/lib/python3.10/site-packages/transformers/optimization.py:591: FutureWarning: This implementation of AdamW is deprecated and will be removed in a future version. Use the PyTorch implementation torch.optim.AdamW instead, or set `no_deprecation_warning=True` to disable this warning\n",
      "  warnings.warn(\n"
     ]
    }
   ],
   "source": [
    "BERT_EPOCHS = 3 # epoch for BERT\n",
    "\n",
    "bert_opt = AdamW(bert_model.parameters(), lr = 2e-5,  eps=1e-8)\n",
    "bert_num_steps = len(bert_train_dataloader) * BERT_EPOCHS\n",
    "\n",
    "scheduler = get_linear_schedule_with_warmup(\n",
    "  bert_opt,\n",
    "  num_warmup_steps=500, # learning rate will increase from 0 to 2e-5 in 500 steps and go down to 0 in the remaining time\n",
    "  num_training_steps=bert_num_steps\n",
    ")"
   ]
  },
  {
   "cell_type": "code",
   "execution_count": 35,
   "metadata": {
    "execution": {
     "iopub.execute_input": "2024-11-04T07:13:17.615968Z",
     "iopub.status.busy": "2024-11-04T07:13:17.615605Z",
     "iopub.status.idle": "2024-11-04T07:19:08.658854Z",
     "shell.execute_reply": "2024-11-04T07:19:08.658082Z",
     "shell.execute_reply.started": "2024-11-04T07:13:17.615926Z"
    },
    "trusted": true
   },
   "outputs": [
    {
     "name": "stdout",
     "output_type": "stream",
     "text": [
      "Epoch 1/3\n",
      "----------\n",
      "Train loss 0.7333502816316675\n",
      "Val   loss 0.47457262285445867\n",
      "\n",
      "Epoch 2/3\n",
      "----------\n",
      "Train loss 0.4118291156297942\n",
      "Val   loss 0.3933292624393576\n",
      "\n",
      "Epoch 3/3\n",
      "----------\n",
      "Train loss 0.22905483111788996\n",
      "Val   loss 0.42720107150901304\n",
      "\n"
     ]
    },
    {
     "data": {
      "text/plain": [
       "defaultdict(list,\n",
       "            {'epoch': [0, 1, 2],\n",
       "             'train_loss': [0.7333502816316675,\n",
       "              0.4118291156297942,\n",
       "              0.22905483111788996],\n",
       "             'dev_loss': [0.47457262285445867,\n",
       "              0.3933292624393576,\n",
       "              0.42720107150901304]})"
      ]
     },
     "execution_count": 35,
     "metadata": {},
     "output_type": "execute_result"
    }
   ],
   "source": [
    "from collections import defaultdict\n",
    "bert_history = defaultdict(list)\n",
    "\n",
    "for bert_epoch in range(BERT_EPOCHS):\n",
    "    print(f'Epoch {bert_epoch + 1}/{BERT_EPOCHS}')\n",
    "    print('-' * 10)\n",
    "    \n",
    "    bert_train_loss = pt_train(bert_model, bert_train_dataloader, bert_opt, device, scheduler)\n",
    "\n",
    "    print(f'Train loss {bert_train_loss}')\n",
    "\n",
    "    bert_dev_loss = pt_eval(bert_model, bert_dev_dataloader, device)\n",
    "\n",
    "    print(f'Val   loss {bert_dev_loss}')\n",
    "    print()\n",
    "\n",
    "    bert_history['epoch'].append(bert_epoch)\n",
    "    bert_history['train_loss'].append(bert_train_loss)\n",
    "    bert_history['dev_loss'].append(bert_dev_loss)\n",
    "\n",
    "bert_history"
   ]
  },
  {
   "cell_type": "code",
   "execution_count": 36,
   "metadata": {
    "execution": {
     "iopub.execute_input": "2024-11-04T07:19:08.661053Z",
     "iopub.status.busy": "2024-11-04T07:19:08.660381Z",
     "iopub.status.idle": "2024-11-04T07:19:08.864219Z",
     "shell.execute_reply": "2024-11-04T07:19:08.863310Z",
     "shell.execute_reply.started": "2024-11-04T07:19:08.661007Z"
    },
    "trusted": true
   },
   "outputs": [
    {
     "data": {
      "text/plain": [
       "([<matplotlib.axis.YTick at 0x7a295c1573a0>,\n",
       "  <matplotlib.axis.YTick at 0x7a295c156d40>,\n",
       "  <matplotlib.axis.YTick at 0x7a295c155d80>,\n",
       "  <matplotlib.axis.YTick at 0x7a297029ed40>,\n",
       "  <matplotlib.axis.YTick at 0x7a2970288fd0>,\n",
       "  <matplotlib.axis.YTick at 0x7a2970289720>],\n",
       " [Text(0, 0.0, '0.0'),\n",
       "  Text(0, 0.4, '0.4'),\n",
       "  Text(0, 0.8, '0.8'),\n",
       "  Text(0, 1.2000000000000002, '1.2'),\n",
       "  Text(0, 1.6, '1.6'),\n",
       "  Text(0, 2.0, '2.0')])"
      ]
     },
     "execution_count": 36,
     "metadata": {},
     "output_type": "execute_result"
    },
    {
     "data": {
      "image/png": "[encoded data removed]",
      "text/plain": [
       "<Figure size 640x480 with 1 Axes>"
      ]
     },
     "metadata": {},
     "output_type": "display_data"
    }
   ],
   "source": [
    "# Visualize from result of training and validation loss of BERT\n",
    "plt.plot(bert_history['train_loss'], label='train loss')\n",
    "plt.plot(bert_history['dev_loss'], label='validation loss')\n",
    "\n",
    "plt.title('Training and validation loss history - BERT')\n",
    "plt.ylabel('Loss')\n",
    "plt.xlabel('Epoch')\n",
    "plt.legend()\n",
    "plt.xticks(np.arange(0,BERT_EPOCHS, 1))\n",
    "plt.yticks(np.arange(0,2.05, 0.4))"
   ]
  },
  {
   "cell_type": "code",
   "execution_count": 37,
   "metadata": {
    "execution": {
     "iopub.execute_input": "2024-11-04T07:19:08.866829Z",
     "iopub.status.busy": "2024-11-04T07:19:08.865705Z",
     "iopub.status.idle": "2024-11-04T07:19:13.902564Z",
     "shell.execute_reply": "2024-11-04T07:19:13.901676Z",
     "shell.execute_reply.started": "2024-11-04T07:19:08.866783Z"
    },
    "trusted": true
   },
   "outputs": [],
   "source": [
    "y_test_b, y_pred_b = predict(bert_model, bert_test_dataloader)"
   ]
  },
  {
   "cell_type": "code",
   "execution_count": 38,
   "metadata": {
    "execution": {
     "iopub.execute_input": "2024-11-04T07:19:13.904708Z",
     "iopub.status.busy": "2024-11-04T07:19:13.904269Z",
     "iopub.status.idle": "2024-11-04T07:19:13.922742Z",
     "shell.execute_reply": "2024-11-04T07:19:13.921699Z",
     "shell.execute_reply.started": "2024-11-04T07:19:13.904660Z"
    },
    "trusted": true
   },
   "outputs": [
    {
     "data": {
      "text/plain": [
       "{'Bearish': {'precision': 0.7395348837209302,\n",
       "  'recall': 0.7644230769230769,\n",
       "  'f1-score': 0.7517730496453899,\n",
       "  'support': 208},\n",
       " 'Bullish': {'precision': 0.811965811965812,\n",
       "  'recall': 0.8225108225108225,\n",
       "  'f1-score': 0.8172043010752688,\n",
       "  'support': 231},\n",
       " 'Neutral': {'precision': 0.9154362416107382,\n",
       "  'recall': 0.9033112582781457,\n",
       "  'f1-score': 0.9093333333333333,\n",
       "  'support': 755},\n",
       " 'accuracy': 0.8634840871021775,\n",
       " 'macro avg': {'precision': 0.8223123124324935,\n",
       "  'recall': 0.8300817192373483,\n",
       "  'f1-score': 0.8261035613513306,\n",
       "  'support': 1194},\n",
       " 'weighted avg': {'precision': 0.8647753105478756,\n",
       "  'recall': 0.8634840871021775,\n",
       "  'f1-score': 0.8640616872205148,\n",
       "  'support': 1194}}"
      ]
     },
     "execution_count": 38,
     "metadata": {},
     "output_type": "execute_result"
    }
   ],
   "source": [
    "bert_cr = classification_report(np.hstack(y_test_b), np.hstack(y_pred_b), target_names=['Bearish','Bullish', 'Neutral'], output_dict=True)\n",
    "bert_cr"
   ]
  },
  {
   "cell_type": "code",
   "execution_count": 39,
   "metadata": {
    "execution": {
     "iopub.execute_input": "2024-11-04T07:19:13.924257Z",
     "iopub.status.busy": "2024-11-04T07:19:13.923913Z",
     "iopub.status.idle": "2024-11-04T07:19:13.929779Z",
     "shell.execute_reply": "2024-11-04T07:19:13.928874Z",
     "shell.execute_reply.started": "2024-11-04T07:19:13.924211Z"
    },
    "trusted": true
   },
   "outputs": [
    {
     "name": "stdout",
     "output_type": "stream",
     "text": [
      "Accuracy of BERT: 0.8634840871021775\n",
      "Precision of BERT: 0.8647753105478756\n",
      "Recall of BERT: 0.8634840871021775\n",
      "F1-score of BERT: 0.8640616872205148\n"
     ]
    }
   ],
   "source": [
    "print('Accuracy of BERT:', bert_cr['accuracy'])\n",
    "print('Precision of BERT:',bert_cr['weighted avg']['precision'])\n",
    "print('Recall of BERT:',bert_cr['weighted avg']['recall'])\n",
    "print('F1-score of BERT:', bert_cr['weighted avg']['f1-score'])"
   ]
  },
  {
   "cell_type": "markdown",
   "metadata": {},
   "source": [
    "## Summary ##"
   ]
  },
  {
   "cell_type": "markdown",
   "metadata": {},
   "source": [
    "I will compare metrics (accuracy, precision, recall and F1-score) of RoBERTa with BERT in this part. This comparison is shown in the table below."
   ]
  },
  {
   "cell_type": "code",
   "execution_count": 40,
   "metadata": {
    "execution": {
     "iopub.execute_input": "2024-11-04T07:19:13.931290Z",
     "iopub.status.busy": "2024-11-04T07:19:13.930974Z",
     "iopub.status.idle": "2024-11-04T07:19:13.949514Z",
     "shell.execute_reply": "2024-11-04T07:19:13.948524Z",
     "shell.execute_reply.started": "2024-11-04T07:19:13.931259Z"
    },
    "trusted": true
   },
   "outputs": [
    {
     "data": {
      "text/html": [
       "<div>\n",
       "<style scoped>\n",
       "    .dataframe tbody tr th:only-of-type {\n",
       "        vertical-align: middle;\n",
       "    }\n",
       "\n",
       "    .dataframe tbody tr th {\n",
       "        vertical-align: top;\n",
       "    }\n",
       "\n",
       "    .dataframe thead th {\n",
       "        text-align: right;\n",
       "    }\n",
       "</style>\n",
       "<table border=\"1\" class=\"dataframe\">\n",
       "  <thead>\n",
       "    <tr style=\"text-align: right;\">\n",
       "      <th></th>\n",
       "      <th>Accuracy</th>\n",
       "      <th>Precision</th>\n",
       "      <th>Recall</th>\n",
       "      <th>F1-score</th>\n",
       "    </tr>\n",
       "  </thead>\n",
       "  <tbody>\n",
       "    <tr>\n",
       "      <th>RoBERTa (Choice)</th>\n",
       "      <td>0.887772</td>\n",
       "      <td>0.891005</td>\n",
       "      <td>0.887772</td>\n",
       "      <td>0.888803</td>\n",
       "    </tr>\n",
       "    <tr>\n",
       "      <th>BERT</th>\n",
       "      <td>0.863484</td>\n",
       "      <td>0.864775</td>\n",
       "      <td>0.863484</td>\n",
       "      <td>0.864062</td>\n",
       "    </tr>\n",
       "  </tbody>\n",
       "</table>\n",
       "</div>"
      ],
      "text/plain": [
       "                  Accuracy  Precision    Recall  F1-score\n",
       "RoBERTa (Choice)  0.887772   0.891005  0.887772  0.888803\n",
       "BERT              0.863484   0.864775  0.863484  0.864062"
      ]
     },
     "execution_count": 40,
     "metadata": {},
     "output_type": "execute_result"
    }
   ],
   "source": [
    "report = {\n",
    "    \"Accuracy\": [roberta_cr['accuracy'], bert_cr['accuracy']],\n",
    "    \"Precision\": [roberta_cr['weighted avg']['precision'],bert_cr['weighted avg']['precision']],\n",
    "    \"Recall\": [roberta_cr['weighted avg']['recall'], bert_cr['weighted avg']['recall']],\n",
    "    \"F1-score\": [roberta_cr['weighted avg']['f1-score'], bert_cr['weighted avg']['f1-score']]\n",
    "}\n",
    "\n",
    "report_df = pd.DataFrame(report,index=(['RoBERTa (Choice)', 'BERT']))\n",
    "report_df"
   ]
  }
 ],
 "metadata": {
  "kaggle": {
   "accelerator": "gpu",
   "dataSources": [
    {
     "datasetId": 134715,
     "sourceId": 320111,
     "sourceType": "datasetVersion"
    }
   ],
   "dockerImageVersionId": 30786,
   "isGpuEnabled": true,
   "isInternetEnabled": true,
   "language": "python",
   "sourceType": "notebook"
  },
  "kernelspec": {
   "display_name": "Python 3",
   "language": "python",
   "name": "python3"
  },
  "language_info": {
   "codemirror_mode": {
    "name": "ipython",
    "version": 3
   },
   "file_extension": ".py",
   "mimetype": "text/x-python",
   "name": "python",
   "nbconvert_exporter": "python",
   "pygments_lexer": "ipython3",
   "version": "3.10.14"
  }
 },
 "nbformat": 4,
 "nbformat_minor": 4
}
